{
 "cells": [
  {
   "cell_type": "code",
   "execution_count": 19,
   "metadata": {},
   "outputs": [],
   "source": [
    "import pandas as pd"
   ]
  },
  {
   "cell_type": "markdown",
   "metadata": {},
   "source": [
    "https://www.cdc.gov/diabetes/pdfs/data/statistics/national-diabetes-statistics-report.pdf\n",
    "\n",
    "Underlying cause of death:  83,564 death certificates\n",
    "Underlying or contributing cause of death: 270,702 death certificates\n",
    "\n",
    "https://www.verywellhealth.com/flu-season-from-start-to-peak-and-end-2633835\n",
    "Flu season is 13 weeks on average (91 days)"
   ]
  },
  {
   "cell_type": "code",
   "execution_count": 20,
   "metadata": {},
   "outputs": [],
   "source": [
    "flu = pd.read_html('https://www.cdc.gov/flu/about/burden/index.html')[0]"
   ]
  },
  {
   "cell_type": "code",
   "execution_count": 21,
   "metadata": {},
   "outputs": [
    {
     "data": {
      "text/plain": [
       "MultiIndex([(   'Unnamed: 0_level_0',   'Season'),\n",
       "            ('Symptomatic Illnesses', 'Estimate'),\n",
       "            ('Symptomatic Illnesses',  '95% U I'),\n",
       "            (       'Medical Visits', 'Estimate'),\n",
       "            (       'Medical Visits',  '95% U I'),\n",
       "            (     'Hospitalizations', 'Estimate'),\n",
       "            (     'Hospitalizations',  '95% U I'),\n",
       "            (               'Deaths', 'Estimate'),\n",
       "            (               'Deaths',  '95% U I')],\n",
       "           )"
      ]
     },
     "execution_count": 21,
     "metadata": {},
     "output_type": "execute_result"
    }
   ],
   "source": [
    "flu.columns"
   ]
  },
  {
   "cell_type": "code",
   "execution_count": 22,
   "metadata": {},
   "outputs": [
    {
     "data": {
      "text/plain": [
       "0       37000\n",
       "1       12000\n",
       "2       43000\n",
       "3       38000\n",
       "4       51000\n",
       "5       23000\n",
       "6       38000\n",
       "7    Estimate\n",
       "8       61000\n",
       "9       34157\n",
       "Name: (Deaths, Estimate), dtype: object"
      ]
     },
     "execution_count": 22,
     "metadata": {},
     "output_type": "execute_result"
    }
   ],
   "source": [
    "flu.loc[:,('Deaths', 'Estimate')]"
   ]
  }
 ],
 "metadata": {
  "kernelspec": {
   "display_name": "Python 3",
   "language": "python",
   "name": "python3"
  },
  "language_info": {
   "codemirror_mode": {
    "name": "ipython",
    "version": 3
   },
   "file_extension": ".py",
   "mimetype": "text/x-python",
   "name": "python",
   "nbconvert_exporter": "python",
   "pygments_lexer": "ipython3",
   "version": "3.7.4"
  }
 },
 "nbformat": 4,
 "nbformat_minor": 2
}
