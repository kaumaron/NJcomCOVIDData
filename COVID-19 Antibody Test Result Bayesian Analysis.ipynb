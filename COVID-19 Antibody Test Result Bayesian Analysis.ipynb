{
 "cells": [
  {
   "cell_type": "markdown",
   "metadata": {},
   "source": [
    "# Bayesian Analysis on COVID-19 Antibody Test Results\n",
    "\n",
    "A simple workbook to determine the probability of an antibody test result matching the truth"
   ]
  },
  {
   "cell_type": "code",
   "execution_count": 1,
   "metadata": {},
   "outputs": [],
   "source": [
    "import pandas as pd"
   ]
  },
  {
   "cell_type": "markdown",
   "metadata": {},
   "source": [
    "This function will calculate the general population's expected distribution of COVID-19 given the prevalence.\n",
    "It also will calculate the expected number of true positive, true negative, false positive and false negative results expected for a given test."
   ]
  },
  {
   "cell_type": "code",
   "execution_count": 5,
   "metadata": {},
   "outputs": [],
   "source": [
    "columns = ['COVID-19', 'Not COVID-19', 'Total']\n",
    "index = ['Test +', 'Test -', 'Total']\n",
    "\n",
    "def case_generator(p, sens, spec, n=10000, columns=columns, index=index):\n",
    "    '''Takes prevalence (p - decimal) and the antibody test's sensitivity \n",
    "    (true positive detection rate; sens - decimal) and specificity (true \n",
    "    negative detection rate; spec - decimal) and generates a sample population\n",
    "    of n. Returns a dataframe mostly for style'''\n",
    "    \n",
    "    # determine number of COVID-19 positive and negative\n",
    "    cvp = round(n * p)\n",
    "    cvn = round(n * (1 - p))\n",
    "    \n",
    "    # determine expected test results of COVID-19 +\n",
    "    tp = round(sens * cvp)\n",
    "    fn = round((1 - sens) * cvp)\n",
    "    \n",
    "    # determine expected test results of COVID-19 -\n",
    "    fp = round((1 - spec) * cvn)\n",
    "    tn = round(spec * cvn)\n",
    "    \n",
    "    # sum test results by result\n",
    "    tot_p = tp + fp\n",
    "    tot_n = tn + fn\n",
    "    \n",
    "    return pd.DataFrame(\n",
    "        [[tp, fp, tot_p],\n",
    "         [fn, tn, tot_n],\n",
    "         [cvp, cvn, n]],\n",
    "        columns=columns,\n",
    "        index=index\n",
    "    )"
   ]
  },
  {
   "cell_type": "markdown",
   "metadata": {},
   "source": [
    "For [Indiana](https://www.reddit.com/r/science/comments/hdy7yc/a_new_study_from_penn_state_estimates_that_the/fvpil39?utm_source=share&utm_medium=web2x) on 6/23, the estimated percent of infected was 5.6% 95% CL(3.1, 8.3) from [covid-19-projections.com](https://covid19-projections.com/us-in)."
   ]
  },
  {
   "cell_type": "code",
   "execution_count": 6,
   "metadata": {},
   "outputs": [
    {
     "data": {
      "text/html": [
       "<div>\n",
       "<style scoped>\n",
       "    .dataframe tbody tr th:only-of-type {\n",
       "        vertical-align: middle;\n",
       "    }\n",
       "\n",
       "    .dataframe tbody tr th {\n",
       "        vertical-align: top;\n",
       "    }\n",
       "\n",
       "    .dataframe thead th {\n",
       "        text-align: right;\n",
       "    }\n",
       "</style>\n",
       "<table border=\"1\" class=\"dataframe\">\n",
       "  <thead>\n",
       "    <tr style=\"text-align: right;\">\n",
       "      <th></th>\n",
       "      <th>COVID-19</th>\n",
       "      <th>Not COVID-19</th>\n",
       "      <th>Total</th>\n",
       "    </tr>\n",
       "  </thead>\n",
       "  <tbody>\n",
       "    <tr>\n",
       "      <td>Test +</td>\n",
       "      <td>287</td>\n",
       "      <td>97</td>\n",
       "      <td>384</td>\n",
       "    </tr>\n",
       "    <tr>\n",
       "      <td>Test -</td>\n",
       "      <td>23</td>\n",
       "      <td>9593</td>\n",
       "      <td>9616</td>\n",
       "    </tr>\n",
       "    <tr>\n",
       "      <td>Total</td>\n",
       "      <td>310</td>\n",
       "      <td>9690</td>\n",
       "      <td>10000</td>\n",
       "    </tr>\n",
       "  </tbody>\n",
       "</table>\n",
       "</div>"
      ],
      "text/plain": [
       "        COVID-19  Not COVID-19  Total\n",
       "Test +       287            97    384\n",
       "Test -        23          9593   9616\n",
       "Total        310          9690  10000"
      ]
     },
     "execution_count": 6,
     "metadata": {},
     "output_type": "execute_result"
    }
   ],
   "source": [
    "case_generator(0.031, 0.927, 0.99)"
   ]
  },
  {
   "cell_type": "code",
   "execution_count": 7,
   "metadata": {},
   "outputs": [
    {
     "data": {
      "text/html": [
       "<div>\n",
       "<style scoped>\n",
       "    .dataframe tbody tr th:only-of-type {\n",
       "        vertical-align: middle;\n",
       "    }\n",
       "\n",
       "    .dataframe tbody tr th {\n",
       "        vertical-align: top;\n",
       "    }\n",
       "\n",
       "    .dataframe thead th {\n",
       "        text-align: right;\n",
       "    }\n",
       "</style>\n",
       "<table border=\"1\" class=\"dataframe\">\n",
       "  <thead>\n",
       "    <tr style=\"text-align: right;\">\n",
       "      <th></th>\n",
       "      <th>COVID-19</th>\n",
       "      <th>Not COVID-19</th>\n",
       "      <th>Total</th>\n",
       "    </tr>\n",
       "  </thead>\n",
       "  <tbody>\n",
       "    <tr>\n",
       "      <td>Test +</td>\n",
       "      <td>519</td>\n",
       "      <td>94</td>\n",
       "      <td>613</td>\n",
       "    </tr>\n",
       "    <tr>\n",
       "      <td>Test -</td>\n",
       "      <td>41</td>\n",
       "      <td>9346</td>\n",
       "      <td>9387</td>\n",
       "    </tr>\n",
       "    <tr>\n",
       "      <td>Total</td>\n",
       "      <td>560</td>\n",
       "      <td>9440</td>\n",
       "      <td>10000</td>\n",
       "    </tr>\n",
       "  </tbody>\n",
       "</table>\n",
       "</div>"
      ],
      "text/plain": [
       "        COVID-19  Not COVID-19  Total\n",
       "Test +       519            94    613\n",
       "Test -        41          9346   9387\n",
       "Total        560          9440  10000"
      ]
     },
     "execution_count": 7,
     "metadata": {},
     "output_type": "execute_result"
    }
   ],
   "source": [
    "case_generator(0.056, 0.927, 0.99)"
   ]
  },
  {
   "cell_type": "code",
   "execution_count": 8,
   "metadata": {},
   "outputs": [
    {
     "data": {
      "text/html": [
       "<div>\n",
       "<style scoped>\n",
       "    .dataframe tbody tr th:only-of-type {\n",
       "        vertical-align: middle;\n",
       "    }\n",
       "\n",
       "    .dataframe tbody tr th {\n",
       "        vertical-align: top;\n",
       "    }\n",
       "\n",
       "    .dataframe thead th {\n",
       "        text-align: right;\n",
       "    }\n",
       "</style>\n",
       "<table border=\"1\" class=\"dataframe\">\n",
       "  <thead>\n",
       "    <tr style=\"text-align: right;\">\n",
       "      <th></th>\n",
       "      <th>COVID-19</th>\n",
       "      <th>Not COVID-19</th>\n",
       "      <th>Total</th>\n",
       "    </tr>\n",
       "  </thead>\n",
       "  <tbody>\n",
       "    <tr>\n",
       "      <td>Test +</td>\n",
       "      <td>769</td>\n",
       "      <td>92</td>\n",
       "      <td>861</td>\n",
       "    </tr>\n",
       "    <tr>\n",
       "      <td>Test -</td>\n",
       "      <td>61</td>\n",
       "      <td>9078</td>\n",
       "      <td>9139</td>\n",
       "    </tr>\n",
       "    <tr>\n",
       "      <td>Total</td>\n",
       "      <td>830</td>\n",
       "      <td>9170</td>\n",
       "      <td>10000</td>\n",
       "    </tr>\n",
       "  </tbody>\n",
       "</table>\n",
       "</div>"
      ],
      "text/plain": [
       "        COVID-19  Not COVID-19  Total\n",
       "Test +       769            92    861\n",
       "Test -        61          9078   9139\n",
       "Total        830          9170  10000"
      ]
     },
     "execution_count": 8,
     "metadata": {},
     "output_type": "execute_result"
    }
   ],
   "source": [
    "case_generator(0.083, 0.927, 0.99)"
   ]
  }
 ],
 "metadata": {
  "kernelspec": {
   "display_name": "Python 3",
   "language": "python",
   "name": "python3"
  },
  "language_info": {
   "codemirror_mode": {
    "name": "ipython",
    "version": 3
   },
   "file_extension": ".py",
   "mimetype": "text/x-python",
   "name": "python",
   "nbconvert_exporter": "python",
   "pygments_lexer": "ipython3",
   "version": "3.7.4"
  }
 },
 "nbformat": 4,
 "nbformat_minor": 2
}
